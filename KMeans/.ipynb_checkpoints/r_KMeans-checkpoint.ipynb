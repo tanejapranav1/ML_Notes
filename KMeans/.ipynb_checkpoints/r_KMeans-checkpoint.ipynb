{
 "cells": [
  {
   "cell_type": "markdown",
   "metadata": {},
   "source": [
    "## Clustering through K_Means in R\n",
    "kmeans is a function in base package"
   ]
  },
  {
   "cell_type": "code",
   "execution_count": 3,
   "metadata": {},
   "outputs": [
    {
     "name": "stdout",
     "output_type": "stream",
     "text": [
      " int [1:100] 7 66 51 6 44 47 1 57 25 91 ...\n",
      " int [1:100] 73 80 21 10 15 47 19 81 33 28 ...\n"
     ]
    }
   ],
   "source": [
    "# Generating Random data\n",
    "x <- sample(1:100, 100)\n",
    "y <- sample(1:100, 100)\n",
    "str(x)\n",
    "str(y)"
   ]
  },
  {
   "cell_type": "code",
   "execution_count": 11,
   "metadata": {},
   "outputs": [
    {
     "name": "stdout",
     "output_type": "stream",
     "text": [
      " int [1:100, 1:2] 7 66 51 6 44 47 1 57 25 91 ...\n",
      " - attr(*, \"dimnames\")=List of 2\n",
      "  ..$ : NULL\n",
      "  ..$ : chr [1:2] \"x\" \"y\"\n"
     ]
    }
   ],
   "source": [
    "# Combining vectors to form data\n",
    "m <- t(rbind(x, y))\n",
    "str(m)"
   ]
  },
  {
   "cell_type": "code",
   "execution_count": 12,
   "metadata": {},
   "outputs": [
    {
     "data": {
      "text/plain": [
       "K-means clustering with 3 clusters of sizes 26, 35, 39\n",
       "\n",
       "Cluster means:\n",
       "         x        y\n",
       "1 66.73077 19.73077\n",
       "2 19.11429 44.28571\n",
       "3 67.84615 76.58974\n",
       "\n",
       "Clustering vector:\n",
       "  [1] 2 3 1 2 1 2 2 3 2 1 1 2 3 2 3 2 3 2 3 1 3 2 2 2 2 3 2 2 3 1 3 2 1 3 2 1 3\n",
       " [38] 2 3 3 3 1 2 2 1 3 2 1 2 3 3 2 3 3 3 1 3 3 3 3 3 1 1 2 1 3 3 2 2 3 1 1 3 2\n",
       " [75] 3 2 2 3 3 1 2 1 1 1 3 2 1 3 1 3 1 2 3 2 3 2 2 3 1 1\n",
       "\n",
       "Within cluster sum of squares by cluster:\n",
       "[1] 13122.23 23364.69 24588.51\n",
       " (between_SS / total_SS =  63.4 %)\n",
       "\n",
       "Available components:\n",
       "\n",
       "[1] \"cluster\"      \"centers\"      \"totss\"        \"withinss\"     \"tot.withinss\"\n",
       "[6] \"betweenss\"    \"size\"         \"iter\"         \"ifault\"      "
      ]
     },
     "metadata": {},
     "output_type": "display_data"
    }
   ],
   "source": [
    "# m - dataframe/matrix    nstart - No of Iterations\n",
    "# centers - No of Clusters\n",
    "kmeans(m, centers = 3, nstart = 20)"
   ]
  },
  {
   "cell_type": "code",
   "execution_count": null,
   "metadata": {
    "collapsed": true
   },
   "outputs": [],
   "source": []
  }
 ],
 "metadata": {
  "kernelspec": {
   "display_name": "R",
   "language": "R",
   "name": "ir"
  },
  "language_info": {
   "codemirror_mode": "r",
   "file_extension": ".r",
   "mimetype": "text/x-r-source",
   "name": "R",
   "pygments_lexer": "r",
   "version": "3.4.2"
  }
 },
 "nbformat": 4,
 "nbformat_minor": 2
}
