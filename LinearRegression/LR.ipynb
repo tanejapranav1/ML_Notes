{
 "cells": [
  {
   "cell_type": "code",
   "execution_count": 1,
   "metadata": {
    "collapsed": true
   },
   "outputs": [],
   "source": [
    "import numpy as np\n",
    "import matplotlib.pyplot as plt\n",
    "%matplotlib inline\n",
    "import seaborn as sns\n",
    "from sklearn.datasets import make_regression"
   ]
  },
  {
   "cell_type": "code",
   "execution_count": 12,
   "metadata": {},
   "outputs": [
    {
     "name": "stdout",
     "output_type": "stream",
     "text": [
      "(500, 1) (500,) 59.5285974847\n"
     ]
    }
   ],
   "source": [
    "X, y, cof = make_regression(n_samples=500, n_features=1, bias = 4.2, noise = 5.1, coef = True)\n",
    "print X.shape, y.shape, cof"
   ]
  },
  {
   "cell_type": "code",
   "execution_count": 13,
   "metadata": {},
   "outputs": [
    {
     "data": {
      "text/plain": [
       "<matplotlib.collections.PathCollection at 0x7f9e93056590>"
      ]
     },
     "execution_count": 13,
     "metadata": {},
     "output_type": "execute_result"
    },
    {
     "data": {
      "image/png": "[encoded data removed]",
      "text/plain": [
       "<matplotlib.figure.Figure at 0x7f9e931348d0>"
      ]
     },
     "metadata": {},
     "output_type": "display_data"
    }
   ],
   "source": [
    "plt.scatter(X[:, 0], y)"
   ]
  },
  {
   "cell_type": "code",
   "execution_count": 15,
   "metadata": {},
   "outputs": [
    {
     "name": "stdout",
     "output_type": "stream",
     "text": [
      "(400, 1) (400,)\n",
      "(100, 1) (100,)\n"
     ]
    }
   ],
   "source": [
    "split = int(0.8 * X.shape[0])\n",
    "\n",
    "X_train = X[:split]\n",
    "X_test = X[split:]\n",
    "\n",
    "y_train = y[:split]\n",
    "y_test = y[split:]\n",
    "\n",
    "print X_train.shape, y_train.shape\n",
    "print X_test.shape, y_test.shape"
   ]
  },
  {
   "cell_type": "code",
   "execution_count": null,
   "metadata": {
    "collapsed": true
   },
   "outputs": [],
   "source": [
    "#hypothesis function\n",
    "def hypothesis(x, w):\n",
    "    return x*w[1] + w[0]\n",
    "\n",
    "#error compute\n",
    "def get_error(y_true, x, w):\n",
    "    err = 0.0\n",
    "    \n",
    "    #Geet number of examples\n",
    "    m = x.shape[0]\n",
    "    for ix in range(m):\n",
    "        # for eachy example compute the square error\n",
    "        err+=(y_true[ix] - hypothesis(x[ix], w))**2\n",
    "    #Get mean square error\n",
    "    err= err/2*m\n",
    "    return err\n",
    "\n",
    "#error gradient\n",
    "def get_grads(y_true, x, w):\n",
    "    grad_00 = 0.0\n",
    "    grad_01 = 0.0\n",
    "    \n",
    "    #Get number of examples\n",
    "    m = x.shape[0]\n",
    "    \n",
    "    for ix in range(m):\n",
    "        #for each example compute the  gradients\n",
    "        grad_00 +=(y_true[ix] - hypothesis(x[ix], w))*(-1)\n",
    "        grad_00 +=(y_true[ix] - hypothesis(x[ix], w))*(-1*x[ix])\n",
    "        \n",
    "    #Get mean grads\n",
    "    grad_00 = grad_00/m\n",
    "    grad_01 = grad_01/m\n",
    "    return [grad_00, grad_01]\n",
    "\n",
    "#update grads using grads descent\n",
    "def grad_descennt(x, y_true, w, learning rate):\n",
    "    error = get_error(y_true, x, w)\n",
    "    [grad_00, grad_01] = get_grads(y_true, x, w)\n",
    "    \n",
    "    w[0] = w[0] - learning_rate*grad_00\n",
    "    w[1] = w[1] - learning_rate*grad_01\n",
    "    \n",
    "    return error, w\n",
    "\n",
    "    \n",
    "    "
   ]
  }
 ],
 "metadata": {
  "kernelspec": {
   "display_name": "Python 2",
   "language": "python",
   "name": "python2"
  },
  "language_info": {
   "codemirror_mode": {
    "name": "ipython",
    "version": 2
   },
   "file_extension": ".py",
   "mimetype": "text/x-python",
   "name": "python",
   "nbconvert_exporter": "python",
   "pygments_lexer": "ipython2",
   "version": "2.7.12"
  }
 },
 "nbformat": 4,
 "nbformat_minor": 2
}
