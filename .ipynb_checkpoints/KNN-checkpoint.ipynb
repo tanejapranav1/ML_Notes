{
 "cells": [
  {
   "cell_type": "code",
   "execution_count": 13,
   "metadata": {},
   "outputs": [
    {
     "name": "stdout",
     "output_type": "stream",
     "text": [
      "(500, 2) (500, 2)\n"
     ]
    }
   ],
   "source": [
    "import numpy as np\n",
    "import matplotlib.pyplot as plt\n",
    "%matplotlib inline\n",
    "\n",
    "mean_01 = np.array([1, 0.5])\n",
    "cov_01 = np.array([[1, 0.1], [0.1, 1.2]])\n",
    "\n",
    "mean_02 = np.array([4, 5])\n",
    "cov_02 = np.array([[1, 0.1], [0.1, 1.2]])\n",
    "\n",
    "dist_01 = np.random.multivariate_normal(mean_01, cov_01, 500)\n",
    "dist_02 = np.random.multivariate_normal(mean_02, cov_02, 500)\n",
    "\n",
    "print dist_01.shape, dist_02.shape\n"
   ]
  },
  {
   "cell_type": "code",
   "execution_count": 15,
   "metadata": {},
   "outputs": [
    {
     "data": {
      "image/png": "[encoded data removed]",
      "text/plain": [
       "<matplotlib.figure.Figure at 0x7fdc63db6950>"
      ]
     },
     "metadata": {},
     "output_type": "display_data"
    }
   ],
   "source": [
    "plt.figure(0) #Default is also figure(0)\n",
    "\n",
    "plt.xlim(-5, 10)\n",
    "plt.ylim(-5, 10)\n",
    "\n",
    "plt.scatter(dist_01[:, 0], dist_01[:, 1])\n",
    "plt.scatter(dist_02[:, 0], dist_02[:, 1], color = 'red')\n",
    "\n",
    "\n",
    "plt.show()"
   ]
  },
  {
   "cell_type": "code",
   "execution_count": 23,
   "metadata": {},
   "outputs": [
    {
     "name": "stdout",
     "output_type": "stream",
     "text": [
      "(1000, 3)\n"
     ]
    }
   ],
   "source": [
    "r = dist_01.shape[0] + dist_02.shape[0]\n",
    "c = dist_01.shape[1] + 1 # +1 for label column\n",
    "\n",
    "data = np.zeros((r, c))\n",
    "print data.shape\n",
    "\n",
    "data[:dist_01.shape[0], :2] = dist_01\n",
    "data[dist_01.shape[0]:, :2] = dist_02\n",
    "data[dist_01.shape[0]:, -1] = 1.0\n",
    "\n",
    "print data.mean(axis = 0)"
   ]
  },
  {
   "cell_type": "code",
   "execution_count": 35,
   "metadata": {},
   "outputs": [
    {
     "name": "stdout",
     "output_type": "stream",
     "text": [
      "[[ 2.29999765  1.38158222  0.        ]\n",
      " [ 3.19905791  5.26682606  1.        ]\n",
      " [ 5.69968428  5.0424859   1.        ]\n",
      " [ 3.12398101 -1.36917879  0.        ]\n",
      " [ 3.92747676  3.88499888  1.        ]\n",
      " [-0.37681135  0.48055173  0.        ]\n",
      " [-0.27310242 -2.51358527  0.        ]\n",
      " [ 3.27743379  5.07567696  1.        ]\n",
      " [ 3.21722357  5.08898324  1.        ]\n",
      " [ 3.67948716  3.05597333  1.        ]]\n"
     ]
    }
   ],
   "source": [
    "np.random.shuffle(data)\n",
    "print data[:10] #data head"
   ]
  },
  {
   "cell_type": "code",
   "execution_count": 42,
   "metadata": {
    "collapsed": true
   },
   "outputs": [],
   "source": [
    "def distance(x1, x2):\n",
    "    d = (x1 - x2)**2\n",
    "    d = d.sum()\n",
    "    d = np.sqrt(d)\n",
    "    return d\n",
    "#print distance(np.array([0,0]), np.array([1,1])) \n",
    "\n",
    "def knn(x_train, y_train, xt, k=7):\n",
    "    vals =[]\n",
    "    \n",
    "    for ix in range(x_train.shape[0]):\n",
    "        d = distance(x_train[ix], xt)\n",
    "        vals.append([d, y_train[ix]])\n",
    "        \n",
    "    sorted_labels = sorted(vals, key = lambda z: z[0])\n",
    "    neighbours = np.asarray(sorted_labels)[:k, -1]\n",
    "    \n",
    "    freq = np.unique(neighbours, return_counts = True)\n",
    "    \n",
    "    return freq[0][freq[1].argmax()]"
   ]
  },
  {
   "cell_type": "code",
   "execution_count": 43,
   "metadata": {},
   "outputs": [
    {
     "name": "stdout",
     "output_type": "stream",
     "text": [
      "(750, 2) (750,)\n",
      "(250, 2) (250,)\n"
     ]
    }
   ],
   "source": [
    "split = int(0.75 * data.shape[0])\n",
    "\n",
    "train_data_x = data[:split, :2]\n",
    "train_data_y = data[:split, -1]\n",
    "\n",
    "test_data_x = data[split:, :2]\n",
    "test_data_y = data[split:, -1]\n",
    "\n",
    "print train_data_x.shape, train_data_y.shape\n",
    "print test_data_x.shape, test_data_y.shape"
   ]
  },
  {
   "cell_type": "code",
   "execution_count": 47,
   "metadata": {},
   "outputs": [
    {
     "name": "stdout",
     "output_type": "stream",
     "text": [
      "99.2\n"
     ]
    }
   ],
   "source": [
    "def get_accuracy(kx):\n",
    "    preds = []\n",
    "\n",
    "    for ix in range(test_data_x.shape[0]):\n",
    "        preds.append(knn(train_data_x, train_data_y, test_data_x[ix], k =kx))\n",
    "    preds = np.asarray(preds)\n",
    "\n",
    "    return 100*float((test_data_y == preds).sum())/ preds.shape[0]\n",
    "print get_accuracy(7)"
   ]
  },
  {
   "cell_type": "code",
   "execution_count": 48,
   "metadata": {},
   "outputs": [
    {
     "name": "stdout",
     "output_type": "stream",
     "text": [
      "k: 2 || Accuracy: 98.0\n",
      "k: 3 || Accuracy: 98.8\n",
      "k: 4 || Accuracy: 98.4\n",
      "k: 5 || Accuracy: 99.2\n",
      "k: 6 || Accuracy: 99.2\n",
      "k: 7 || Accuracy: 99.2\n",
      "k: 8 || Accuracy: 99.2\n",
      "k: 9 || Accuracy: 99.2\n",
      "k: 10 || Accuracy: 98.8\n",
      "k: 11 || Accuracy: 98.8\n",
      "k: 12 || Accuracy: 98.8\n",
      "k: 13 || Accuracy: 98.8\n",
      "k: 14 || Accuracy: 98.8\n"
     ]
    }
   ],
   "source": [
    "for ix in range(2, 15):\n",
    "    print 'k:', ix, '|| Accuracy:',get_accuracy(ix) "
   ]
  }
 ],
 "metadata": {
  "kernelspec": {
   "display_name": "Python 2",
   "language": "python",
   "name": "python2"
  },
  "language_info": {
   "codemirror_mode": {
    "name": "ipython",
    "version": 2
   },
   "file_extension": ".py",
   "mimetype": "text/x-python",
   "name": "python",
   "nbconvert_exporter": "python",
   "pygments_lexer": "ipython2",
   "version": "2.7.12"
  }
 },
 "nbformat": 4,
 "nbformat_minor": 2
}
