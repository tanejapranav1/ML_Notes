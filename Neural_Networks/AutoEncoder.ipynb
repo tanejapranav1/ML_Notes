{
 "cells": [
  {
   "cell_type": "code",
   "execution_count": 2,
   "metadata": {},
   "outputs": [],
   "source": [
    "import numpy as np\n",
    "import pandas as pd\n",
    "import matplotlib.pyplot as plt\n",
    "%matplotlib inline\n",
    "import seaborn as sns\n",
    "import keras\n",
    "from keras.layers import Dense, Activation, Input\n",
    "from keras.models import Model"
   ]
  },
  {
   "cell_type": "code",
   "execution_count": 3,
   "metadata": {},
   "outputs": [
    {
     "name": "stdout",
     "output_type": "stream",
     "text": [
      "(2000, 784)\n"
     ]
    }
   ],
   "source": [
    "ds = pd.read_csv('/home/pranav/Datasets/MNIST/train.csv')\n",
    "data = ds.values[:2000, 1:]/255.0\n",
    "print data.shape"
   ]
  },
  {
   "cell_type": "code",
   "execution_count": 19,
   "metadata": {
    "scrolled": true
   },
   "outputs": [
    {
     "name": "stdout",
     "output_type": "stream",
     "text": [
      "_________________________________________________________________\n",
      "Layer (type)                 Output Shape              Param #   \n",
      "=================================================================\n",
      "input_4 (InputLayer)         (None, 784)               0         \n",
      "_________________________________________________________________\n",
      "dense_9 (Dense)              (None, 100)               78500     \n",
      "_________________________________________________________________\n",
      "activation_9 (Activation)    (None, 100)               0         \n",
      "_________________________________________________________________\n",
      "dense_10 (Dense)             (None, 50)                5050      \n",
      "_________________________________________________________________\n",
      "activation_10 (Activation)   (None, 50)                0         \n",
      "_________________________________________________________________\n",
      "dense_11 (Dense)             (None, 100)               5100      \n",
      "_________________________________________________________________\n",
      "activation_11 (Activation)   (None, 100)               0         \n",
      "_________________________________________________________________\n",
      "dense_12 (Dense)             (None, 784)               79184     \n",
      "_________________________________________________________________\n",
      "activation_12 (Activation)   (None, 784)               0         \n",
      "=================================================================\n",
      "Total params: 167,834\n",
      "Trainable params: 167,834\n",
      "Non-trainable params: 0\n",
      "_________________________________________________________________\n",
      "_________________________________________________________________\n",
      "Layer (type)                 Output Shape              Param #   \n",
      "=================================================================\n",
      "input_4 (InputLayer)         (None, 784)               0         \n",
      "_________________________________________________________________\n",
      "dense_9 (Dense)              (None, 100)               78500     \n",
      "_________________________________________________________________\n",
      "activation_9 (Activation)    (None, 100)               0         \n",
      "=================================================================\n",
      "Total params: 78,500\n",
      "Trainable params: 78,500\n",
      "Non-trainable params: 0\n",
      "_________________________________________________________________\n"
     ]
    },
    {
     "ename": "TypeError",
     "evalue": "Input tensors to a Model must be Keras tensors. Found: <keras.layers.core.Dense object at 0x7f1611486b50> (missing Keras metadata).",
     "output_type": "error",
     "traceback": [
      "\u001b[0;31m---------------------------------------------------------------------------\u001b[0m",
      "\u001b[0;31mTypeError\u001b[0m                                 Traceback (most recent call last)",
      "\u001b[0;32m<ipython-input-19-475647fc8ce0>\u001b[0m in \u001b[0;36m<module>\u001b[0;34m()\u001b[0m\n\u001b[1;32m     28\u001b[0m \u001b[0;31m#Build encoder2\u001b[0m\u001b[0;34m\u001b[0m\u001b[0;34m\u001b[0m\u001b[0m\n\u001b[1;32m     29\u001b[0m \u001b[0mINP\u001b[0m \u001b[0;34m=\u001b[0m \u001b[0mInput\u001b[0m\u001b[0;34m(\u001b[0m\u001b[0mshape\u001b[0m\u001b[0;34m=\u001b[0m\u001b[0;34m(\u001b[0m\u001b[0;36m100\u001b[0m\u001b[0;34m,\u001b[0m\u001b[0;34m)\u001b[0m\u001b[0;34m)\u001b[0m\u001b[0;34m\u001b[0m\u001b[0m\n\u001b[0;32m---> 30\u001b[0;31m \u001b[0mencoder2\u001b[0m \u001b[0;34m=\u001b[0m \u001b[0mModel\u001b[0m\u001b[0;34m(\u001b[0m\u001b[0minputs\u001b[0m \u001b[0;34m=\u001b[0m \u001b[0;34m[\u001b[0m\u001b[0mh1\u001b[0m\u001b[0;34m]\u001b[0m\u001b[0;34m,\u001b[0m \u001b[0moutputs\u001b[0m \u001b[0;34m=\u001b[0m \u001b[0;34m[\u001b[0m\u001b[0ma2\u001b[0m\u001b[0;34m(\u001b[0m\u001b[0mh2\u001b[0m\u001b[0;34m(\u001b[0m\u001b[0ma1\u001b[0m\u001b[0;34m(\u001b[0m\u001b[0mh1\u001b[0m\u001b[0;34m(\u001b[0m\u001b[0minp\u001b[0m\u001b[0;34m)\u001b[0m\u001b[0;34m)\u001b[0m\u001b[0;34m)\u001b[0m\u001b[0;34m)\u001b[0m\u001b[0;34m]\u001b[0m\u001b[0;34m)\u001b[0m\u001b[0;34m\u001b[0m\u001b[0m\n\u001b[0m\u001b[1;32m     31\u001b[0m \u001b[0;34m\u001b[0m\u001b[0m\n\u001b[1;32m     32\u001b[0m \u001b[0;31m##\u001b[0m\u001b[0;34m\u001b[0m\u001b[0;34m\u001b[0m\u001b[0m\n",
      "\u001b[0;32m/usr/local/lib/python2.7/dist-packages/keras/legacy/interfaces.pyc\u001b[0m in \u001b[0;36mwrapper\u001b[0;34m(*args, **kwargs)\u001b[0m\n\u001b[1;32m     86\u001b[0m                 warnings.warn('Update your `' + object_name +\n\u001b[1;32m     87\u001b[0m                               '` call to the Keras 2 API: ' + signature, stacklevel=2)\n\u001b[0;32m---> 88\u001b[0;31m             \u001b[0;32mreturn\u001b[0m \u001b[0mfunc\u001b[0m\u001b[0;34m(\u001b[0m\u001b[0;34m*\u001b[0m\u001b[0margs\u001b[0m\u001b[0;34m,\u001b[0m \u001b[0;34m**\u001b[0m\u001b[0mkwargs\u001b[0m\u001b[0;34m)\u001b[0m\u001b[0;34m\u001b[0m\u001b[0m\n\u001b[0m\u001b[1;32m     89\u001b[0m         \u001b[0mwrapper\u001b[0m\u001b[0;34m.\u001b[0m\u001b[0m_legacy_support_signature\u001b[0m \u001b[0;34m=\u001b[0m \u001b[0minspect\u001b[0m\u001b[0;34m.\u001b[0m\u001b[0mgetargspec\u001b[0m\u001b[0;34m(\u001b[0m\u001b[0mfunc\u001b[0m\u001b[0;34m)\u001b[0m\u001b[0;34m\u001b[0m\u001b[0m\n\u001b[1;32m     90\u001b[0m         \u001b[0;32mreturn\u001b[0m \u001b[0mwrapper\u001b[0m\u001b[0;34m\u001b[0m\u001b[0m\n",
      "\u001b[0;32m/usr/local/lib/python2.7/dist-packages/keras/engine/topology.pyc\u001b[0m in \u001b[0;36m__init__\u001b[0;34m(self, inputs, outputs, name)\u001b[0m\n\u001b[1;32m   1543\u001b[0m                 raise TypeError('Input tensors to a ' + cls_name + ' ' +\n\u001b[1;32m   1544\u001b[0m                                 \u001b[0;34m'must be Keras tensors. Found: '\u001b[0m \u001b[0;34m+\u001b[0m \u001b[0mstr\u001b[0m\u001b[0;34m(\u001b[0m\u001b[0mx\u001b[0m\u001b[0;34m)\u001b[0m \u001b[0;34m+\u001b[0m\u001b[0;34m\u001b[0m\u001b[0m\n\u001b[0;32m-> 1545\u001b[0;31m                                 ' (missing Keras metadata).')\n\u001b[0m\u001b[1;32m   1546\u001b[0m             \u001b[0;31m# Check that x is an input tensor.\u001b[0m\u001b[0;34m\u001b[0m\u001b[0;34m\u001b[0m\u001b[0m\n\u001b[1;32m   1547\u001b[0m             \u001b[0mlayer\u001b[0m\u001b[0;34m,\u001b[0m \u001b[0mnode_index\u001b[0m\u001b[0;34m,\u001b[0m \u001b[0mtensor_index\u001b[0m \u001b[0;34m=\u001b[0m \u001b[0mx\u001b[0m\u001b[0;34m.\u001b[0m\u001b[0m_keras_history\u001b[0m\u001b[0;34m\u001b[0m\u001b[0m\n",
      "\u001b[0;31mTypeError\u001b[0m: Input tensors to a Model must be Keras tensors. Found: <keras.layers.core.Dense object at 0x7f1611486b50> (missing Keras metadata)."
     ]
    }
   ],
   "source": [
    "#Define the layers\n",
    "inp = Input(shape=(784, ))\n",
    "\n",
    "h1 = Dense(100)\n",
    "a1 = Activation('sigmoid')\n",
    "\n",
    "h2 = Dense(50)\n",
    "a2 = Activation('tanh')\n",
    "\n",
    "h3 = Dense(100)\n",
    "a3 = Activation('sigmoid')\n",
    "\n",
    "y = Dense(784, )\n",
    "ya = Activation('sigmoid')\n",
    "\n",
    "#Connect the layers of AutoEncoder\n",
    "out = ya(y(a3(h3(a2(h2(a1(h1(inp))))))))\n",
    "\n",
    "#Create autoencoder model\n",
    "model = Model(inputs = [inp], outputs=[out])\n",
    "model.summary()\n",
    "model.compile(loss = 'mse', optimizer = 'adam', metrics = ['accuracy'])\n",
    "\n",
    "#Build encoder1\n",
    "encoder1 = Model(inputs=[inp], outputs=[a1(h1(inp))])\n",
    "encoder1.summary()\n",
    "\n",
    "#Build encoder2\n",
    "INP = Input(shape=(100,))\n",
    "encoder2 = Model(inputs = [h1], outputs = [a2(h2(INP))])\n",
    "\n",
    "##\n",
    "INP = Input(shape=(50,))\n",
    "dec = Model(inputs=[INP], outputs=[a3(h3(INP))])\n",
    "\n",
    "\n",
    "\n",
    "#Build Decoder\n",
    "dec_inp = Input(shape = (100, ))\n",
    "dec_out = ya(y(a3(h3(dec_inp))))\n",
    "decoder= Model(inputs=[dec_inp], outputs = [dec_out])\n",
    "decoder.summary()"
   ]
  },
  {
   "cell_type": "code",
   "execution_count": 6,
   "metadata": {
    "scrolled": true
   },
   "outputs": [
    {
     "name": "stdout",
     "output_type": "stream",
     "text": [
      "Train on 1900 samples, validate on 100 samples\n",
      "Epoch 1/50\n",
      "1900/1900 [==============================] - 0s - loss: 0.1590 - acc: 0.0079 - val_loss: 0.0988 - val_acc: 0.0000e+00\n",
      "Epoch 2/50\n",
      "1900/1900 [==============================] - 0s - loss: 0.0803 - acc: 0.0153 - val_loss: 0.0731 - val_acc: 0.0000e+00\n",
      "Epoch 3/50\n",
      "1900/1900 [==============================] - 0s - loss: 0.0701 - acc: 0.0137 - val_loss: 0.0708 - val_acc: 0.0100\n",
      "Epoch 4/50\n",
      "1900/1900 [==============================] - 0s - loss: 0.0689 - acc: 0.0126 - val_loss: 0.0702 - val_acc: 0.0000e+00\n",
      "Epoch 5/50\n",
      "1900/1900 [==============================] - 0s - loss: 0.0686 - acc: 0.0158 - val_loss: 0.0700 - val_acc: 0.0100\n",
      "Epoch 6/50\n",
      "1900/1900 [==============================] - 0s - loss: 0.0685 - acc: 0.0089 - val_loss: 0.0701 - val_acc: 0.0000e+00\n",
      "Epoch 7/50\n",
      "1900/1900 [==============================] - 0s - loss: 0.0684 - acc: 0.0147 - val_loss: 0.0698 - val_acc: 0.0100\n",
      "Epoch 8/50\n",
      "1900/1900 [==============================] - 0s - loss: 0.0683 - acc: 0.0116 - val_loss: 0.0699 - val_acc: 0.0100\n",
      "Epoch 9/50\n",
      "1900/1900 [==============================] - 0s - loss: 0.0683 - acc: 0.0121 - val_loss: 0.0697 - val_acc: 0.0000e+00\n",
      "Epoch 10/50\n",
      "1900/1900 [==============================] - 0s - loss: 0.0683 - acc: 0.0116 - val_loss: 0.0697 - val_acc: 0.0100\n",
      "Epoch 11/50\n",
      "1900/1900 [==============================] - 0s - loss: 0.0682 - acc: 0.0111 - val_loss: 0.0697 - val_acc: 0.0000e+00\n",
      "Epoch 12/50\n",
      "1900/1900 [==============================] - 0s - loss: 0.0682 - acc: 0.0074 - val_loss: 0.0697 - val_acc: 0.0000e+00\n",
      "Epoch 13/50\n",
      "1900/1900 [==============================] - 0s - loss: 0.0681 - acc: 0.0100 - val_loss: 0.0697 - val_acc: 0.0100\n",
      "Epoch 14/50\n",
      "1900/1900 [==============================] - 0s - loss: 0.0681 - acc: 0.0126 - val_loss: 0.0696 - val_acc: 0.0100\n",
      "Epoch 15/50\n",
      "1900/1900 [==============================] - 0s - loss: 0.0681 - acc: 0.0105 - val_loss: 0.0696 - val_acc: 0.0100\n",
      "Epoch 16/50\n",
      "1900/1900 [==============================] - 0s - loss: 0.0681 - acc: 0.0095 - val_loss: 0.0696 - val_acc: 0.0000e+00\n",
      "Epoch 17/50\n",
      "1900/1900 [==============================] - 0s - loss: 0.0681 - acc: 0.0116 - val_loss: 0.0695 - val_acc: 0.0100\n",
      "Epoch 18/50\n",
      "1900/1900 [==============================] - 0s - loss: 0.0680 - acc: 0.0137 - val_loss: 0.0695 - val_acc: 0.0000e+00\n",
      "Epoch 19/50\n",
      "1900/1900 [==============================] - 0s - loss: 0.0679 - acc: 0.0153 - val_loss: 0.0694 - val_acc: 0.0100\n",
      "Epoch 20/50\n",
      "1900/1900 [==============================] - 0s - loss: 0.0678 - acc: 0.0137 - val_loss: 0.0693 - val_acc: 0.0100\n",
      "Epoch 21/50\n",
      "1900/1900 [==============================] - 0s - loss: 0.0677 - acc: 0.0137 - val_loss: 0.0691 - val_acc: 0.0100\n",
      "Epoch 22/50\n",
      "1900/1900 [==============================] - 0s - loss: 0.0674 - acc: 0.0153 - val_loss: 0.0687 - val_acc: 0.0000e+00\n",
      "Epoch 23/50\n",
      "1900/1900 [==============================] - 0s - loss: 0.0668 - acc: 0.0147 - val_loss: 0.0681 - val_acc: 0.0000e+00\n",
      "Epoch 24/50\n",
      "1900/1900 [==============================] - 0s - loss: 0.0661 - acc: 0.0142 - val_loss: 0.0673 - val_acc: 0.0000e+00\n",
      "Epoch 25/50\n",
      "1900/1900 [==============================] - 0s - loss: 0.0652 - acc: 0.0153 - val_loss: 0.0666 - val_acc: 0.0100\n",
      "Epoch 26/50\n",
      "1900/1900 [==============================] - 0s - loss: 0.0644 - acc: 0.0111 - val_loss: 0.0659 - val_acc: 0.0000e+00\n",
      "Epoch 27/50\n",
      "1900/1900 [==============================] - 0s - loss: 0.0637 - acc: 0.0111 - val_loss: 0.0654 - val_acc: 0.0000e+00\n",
      "Epoch 28/50\n",
      "1900/1900 [==============================] - 0s - loss: 0.0632 - acc: 0.0116 - val_loss: 0.0650 - val_acc: 0.0100\n",
      "Epoch 29/50\n",
      "1900/1900 [==============================] - 0s - loss: 0.0628 - acc: 0.0158 - val_loss: 0.0647 - val_acc: 0.0200\n",
      "Epoch 30/50\n",
      "1900/1900 [==============================] - 0s - loss: 0.0624 - acc: 0.0132 - val_loss: 0.0644 - val_acc: 0.0100\n",
      "Epoch 31/50\n",
      "1900/1900 [==============================] - 0s - loss: 0.0621 - acc: 0.0137 - val_loss: 0.0641 - val_acc: 0.0100\n",
      "Epoch 32/50\n",
      "1900/1900 [==============================] - 0s - loss: 0.0618 - acc: 0.0126 - val_loss: 0.0638 - val_acc: 0.0200\n",
      "Epoch 33/50\n",
      "1900/1900 [==============================] - 0s - loss: 0.0614 - acc: 0.0158 - val_loss: 0.0634 - val_acc: 0.0200\n",
      "Epoch 34/50\n",
      "1900/1900 [==============================] - 0s - loss: 0.0609 - acc: 0.0153 - val_loss: 0.0628 - val_acc: 0.0100\n",
      "Epoch 35/50\n",
      "1900/1900 [==============================] - 0s - loss: 0.0601 - acc: 0.0168 - val_loss: 0.0619 - val_acc: 0.0100\n",
      "Epoch 36/50\n",
      "1900/1900 [==============================] - 0s - loss: 0.0593 - acc: 0.0126 - val_loss: 0.0611 - val_acc: 0.0100\n",
      "Epoch 37/50\n",
      "1900/1900 [==============================] - 0s - loss: 0.0584 - acc: 0.0153 - val_loss: 0.0603 - val_acc: 0.0100\n",
      "Epoch 38/50\n",
      "1900/1900 [==============================] - 0s - loss: 0.0576 - acc: 0.0147 - val_loss: 0.0598 - val_acc: 0.0100\n",
      "Epoch 39/50\n",
      "1900/1900 [==============================] - 0s - loss: 0.0570 - acc: 0.0147 - val_loss: 0.0592 - val_acc: 0.0100\n",
      "Epoch 40/50\n",
      "1900/1900 [==============================] - 0s - loss: 0.0564 - acc: 0.0153 - val_loss: 0.0586 - val_acc: 0.0100\n",
      "Epoch 41/50\n",
      "1900/1900 [==============================] - 0s - loss: 0.0558 - acc: 0.0179 - val_loss: 0.0579 - val_acc: 0.0100\n",
      "Epoch 42/50\n",
      "1900/1900 [==============================] - 0s - loss: 0.0550 - acc: 0.0158 - val_loss: 0.0570 - val_acc: 0.0100\n",
      "Epoch 43/50\n",
      "1900/1900 [==============================] - 0s - loss: 0.0540 - acc: 0.0184 - val_loss: 0.0561 - val_acc: 0.0100\n",
      "Epoch 44/50\n",
      "1900/1900 [==============================] - 0s - loss: 0.0531 - acc: 0.0189 - val_loss: 0.0552 - val_acc: 0.0100\n",
      "Epoch 45/50\n",
      "1900/1900 [==============================] - 0s - loss: 0.0522 - acc: 0.0211 - val_loss: 0.0544 - val_acc: 0.0000e+00\n",
      "Epoch 46/50\n",
      "1900/1900 [==============================] - 0s - loss: 0.0515 - acc: 0.0179 - val_loss: 0.0538 - val_acc: 0.0100\n",
      "Epoch 47/50\n",
      "1900/1900 [==============================] - 0s - loss: 0.0508 - acc: 0.0174 - val_loss: 0.0532 - val_acc: 0.0000e+00\n",
      "Epoch 48/50\n",
      "1900/1900 [==============================] - 0s - loss: 0.0502 - acc: 0.0174 - val_loss: 0.0526 - val_acc: 0.0000e+00\n",
      "Epoch 49/50\n",
      "1900/1900 [==============================] - 0s - loss: 0.0496 - acc: 0.0179 - val_loss: 0.0520 - val_acc: 0.0000e+00\n",
      "Epoch 50/50\n",
      "1900/1900 [==============================] - 0s - loss: 0.0490 - acc: 0.0184 - val_loss: 0.0512 - val_acc: 0.0000e+00\n"
     ]
    }
   ],
   "source": [
    "hist = model.fit(data[:1900], data[:1900],\n",
    "                epochs = 50,\n",
    "                shuffle = True,\n",
    "                batch_size = 100,\n",
    "                validation_data = (data[1900:], data[1900:]))"
   ]
  },
  {
   "cell_type": "code",
   "execution_count": 9,
   "metadata": {},
   "outputs": [
    {
     "name": "stdout",
     "output_type": "stream",
     "text": [
      "(100, 50)\n",
      "(100, 784)\n"
     ]
    }
   ],
   "source": [
    "ex = encoder.predict(data[:100])\n",
    "print ex.shape\n",
    "\n",
    "dx = decoder.predict(ex)\n",
    "print dx.shape"
   ]
  },
  {
   "cell_type": "code",
   "execution_count": 18,
   "metadata": {},
   "outputs": [
    {
     "data": {
      "text/plain": [
       "<matplotlib.image.AxesImage at 0x7f161135e050>"
      ]
     },
     "execution_count": 18,
     "metadata": {},
     "output_type": "execute_result"
    },
    {
     "data": {
      "image/png": "[encoded data removed]",
      "text/plain": [
       "<matplotlib.figure.Figure at 0x7f16112373d0>"
      ]
     },
     "metadata": {},
     "output_type": "display_data"
    },
    {
     "data": {
      "image/png": "[encoded data removed]",
      "text/plain": [
       "<matplotlib.figure.Figure at 0x7f1611335850>"
      ]
     },
     "metadata": {},
     "output_type": "display_data"
    }
   ],
   "source": [
    "n = np.random.choice(range(100))\n",
    "plt.figure(0)\n",
    "plt.grid('off')\n",
    "plt.imshow(data[n].reshape((28, 28)), cmap='gray')\n",
    "\n",
    "plt.figure(1)\n",
    "plt.grid('off')\n",
    "plt.imshow(dx[n].reshape((28, 28)), cmap='gray')"
   ]
  },
  {
   "cell_type": "code",
   "execution_count": null,
   "metadata": {
    "collapsed": true
   },
   "outputs": [],
   "source": []
  }
 ],
 "metadata": {
  "kernelspec": {
   "display_name": "Python 2",
   "language": "python",
   "name": "python2"
  },
  "language_info": {
   "codemirror_mode": {
    "name": "ipython",
    "version": 2
   },
   "file_extension": ".py",
   "mimetype": "text/x-python",
   "name": "python",
   "nbconvert_exporter": "python",
   "pygments_lexer": "ipython2",
   "version": "2.7.12"
  }
 },
 "nbformat": 4,
 "nbformat_minor": 2
}
